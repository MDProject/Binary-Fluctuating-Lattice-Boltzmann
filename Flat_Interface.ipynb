{
 "cells": [
  {
   "cell_type": "markdown",
   "id": "1d5904ce",
   "metadata": {},
   "source": [
    "### Continuous Fourier Transform & FFT\n",
    "\n",
    "\\begin{aligned}\n",
    "\\hat{f}\\left(k\\right) &=\\frac{1}{\\sqrt{2\\pi}}\\int f\\left(x\\right)e^{-ikx}dx\\approx\\frac{1}{\\sqrt{2\\pi}}\\sum_{j=0}^{N-1}f\\left(x_{j}\\right)e^{-ikj\\Delta x}\\Delta x \\\\\n",
    "\t&=\\sum_{j=0}^{N-1}f\\left(x_{j}\\right)e^{-i\\sqrt{2\\pi}kj\\frac{\\Delta x}{\\sqrt{2\\pi}}}\\frac{\\Delta x}{\\sqrt{2\\pi}}\\to f\\left(k_{n}\\right)=\\sum_{j=0}^{N-1}f\\left(x_{j}\\right)e^{-i\\sqrt{2\\pi}\\left(n\\frac{2\\pi}{N\\Delta x}\\right)j\\frac{\\Delta x}{\\sqrt{2\\pi}}}\\frac{\\Delta x}{\\sqrt{2\\pi}} \\\\\n",
    "\t&=\\sum_{j=0}^{N-1}f\\left(x_{j}\\right)e^{-i\\frac{2\\pi nj}{N}}\\frac{\\Delta x}{\\sqrt{2\\pi}} \\\\\n",
    "\t&=\\frac{L}{\\sqrt{2\\pi N}}\\left[\\frac{1}{\\sqrt{N}}\\sum_{j=0}^{N-1}f\\left(x_{j}\\right)e^{-i\\frac{2\\pi nj}{N}}\\right] \\\\\n",
    "\t&=\\frac{L}{\\sqrt{2\\pi}}\\left[\\frac{1}{N}\\sum_{j=0}^{N-1}f\\left(x_{j}\\right)e^{-i\\frac{2\\pi nj}{N}}\\right]\n",
    "\\end{aligned}\n",
    "\n",
    "If $L=1, \\hat{f}\\left(k\\right)=\\frac{1}{\\sqrt{2\\pi N}}\\text{fft}_{\\text{ortho}}\\left(f\\right)=\\frac{1}{\\sqrt{2\\pi}}\\text{fft}_{\\text{forward}}\\left(f\\right)=\\frac{1}{\\sqrt{2\\pi}N}\\text{fft}_{\\text{backward}}\\left(f\\right)$.\n",
    "\n",
    "In Numpy FFT lib, the **default** normalization (\"backward\") has the direct (forward) transforms unscaled and the inverse (backward) transforms scaled by $\\frac{1}{N}$. For normalization \"ortho\" both direct and inverse transforms are scaled by $\\sqrt{N}$. For normalization \"forward\" the direct transforms scaled by $\\frac{1}{N}$ and the inverse transforms unscaled."
   ]
  },
  {
   "cell_type": "markdown",
   "id": "e1b69b01",
   "metadata": {},
   "source": [
    "For even $N$, Nyquist frequency is at index $N/2$ (negative);\n",
    "\n",
    "For odd $N$, index $\\frac{N-1}{2}$ denotes the largest positive frequency, while $\\frac{N+1}{2}$ denotes the largest negative frequency (absolute value here). \n",
    "\n",
    "The index $k<\\frac{N}{2}$ corresponds to a positive frequency $\\frac{k}{N}$, the index $k\\ge\\frac{N}{2}$ corresponds to a negative frequency $\\frac{k-N}{N}$"
   ]
  },
  {
   "cell_type": "code",
   "execution_count": 1,
   "id": "a0075f73",
   "metadata": {},
   "outputs": [
    {
     "name": "stdout",
     "output_type": "stream",
     "text": [
      "[ 0.          0.62831853  1.25663706  1.88495559  2.51327412 -3.14159265\n",
      " -2.51327412 -1.88495559 -1.25663706 -0.62831853]\n",
      "[ 0.          0.57119866  1.14239733  1.71359599  2.28479466  2.85599332\n",
      " -2.85599332 -2.28479466 -1.71359599 -1.14239733 -0.57119866]\n"
     ]
    }
   ],
   "source": [
    "import numpy as np\n",
    "from numpy import fft\n",
    "\n",
    "#### examples for the FFT module ####\n",
    "N = 10\n",
    "k_fft = fft.fftfreq(N)*2*np.pi  # Nyquist frequency = \\pi, one period = 2\\pi\n",
    "print(k_fft)\n",
    "N = 11\n",
    "k_fft = fft.fftfreq(N)*2*np.pi  # Nyquist frequency = \\pi, one period = 2\\pi\n",
    "print(k_fft)"
   ]
  },
  {
   "cell_type": "markdown",
   "id": "392e3b6b",
   "metadata": {},
   "source": [
    "### Contour Fitting Function"
   ]
  },
  {
   "cell_type": "code",
   "execution_count": null,
   "id": "8f8a83bf",
   "metadata": {},
   "outputs": [],
   "source": [
    "##  Plot Fluctuating Flat Interface ##\n",
    "import yt\n",
    "import numpy as np\n",
    "from skimage import measure\n",
    "\n",
    "def ih_direct(profile, level = 0):\n",
    "    \"\"\"\n",
    "    Calculates the interface height in the z-direction for a system with a flat interface across the xy plane.\n",
    "\n",
    "    This function determines the z-coordinate of the interface at each point in the xy plane by identifying where the isocontour of the interface is zero. It uses the `skimage.measure.find_contours` function to perform this calculation.\n",
    "\n",
    "    Parameters\n",
    "    ----------\n",
    "    profile : numpy.ndarray\n",
    "        A 3D NumPy array representing the order parameter of the system. The array has dimensions `(nx, ny, nz)`, where `nx` is the size in the x-direction and `ny` and `nz` are the sizes in the y- and z-directions, respectively.\n",
    "           \n",
    "           z (height)\n",
    "           |\n",
    "     _ _ _ |_ _ _ _ _ _ _ _ \n",
    "           |__ __ __ y (stripe length)\n",
    "     _ _ _/__ _ _ _ _ _ _ _ \n",
    "         /\n",
    "        /\n",
    "       x (thickness of the interface is in the x-direction)\n",
    "    \"\"\"\n",
    "    nx, ny, nz = profile.shape\n",
    "    index_levels = np.arange(0, ny, 1)\n",
    "    out = np.zeros((nx, ny))\n",
    "    for x in range(nx):\n",
    "        levels = measure.find_contours(profile[x, :, :], level = level)[1]\n",
    "        #print(levels)\n",
    "        idxs = np.isin(levels[:, 0], index_levels)\n",
    "        #print(idxs.shape)\n",
    "        out[x,:] = levels[idxs, 1]\n",
    "        #print(out[x].shape)\n",
    "    return out\n",
    "\n",
    "# Example usage\n",
    "alpha0 = 1.5\n",
    "temperature = 0.\n",
    "nx = 8\n",
    "ny = 256\n",
    "nz = 64\n",
    "frameIdx = 2000\n",
    "rho_lo = 0.1\n",
    "rho_hi = 2.\n",
    "\n",
    "file_path = \"./data_interface/lbm_data_shshan_alpha0_\" + \"{:.2f}\".format(alpha0) +\\\n",
    "          \"_xi_\" + \"{:.1e}\".format(temperature) + \"_size{:d}-{:d}-{:d}/\".format(nx, ny, nz) + \"plt\" + f\"{frameIdx:07d}\"\n",
    "ts = yt.load(file_path)\n",
    "profile_data = ts.covering_grid(\n",
    "    level=0, left_edge=ts.domain_left_edge, dims=ts.domain_dimensions\n",
    ")\n",
    "print(ts.field_list)\n",
    "profile = profile_data['boxlib', 'rho']\n",
    "print(\"input data has shape \", profile.shape)\n",
    "\n",
    "height = ih_direct(profile, (rho_lo + rho_hi)/2.)\n",
    "print(height)"
   ]
  },
  {
   "cell_type": "markdown",
   "id": "cc511054",
   "metadata": {},
   "source": [
    "### Spectrum of height fluctuations $h$ of a flat interface\n",
    "\n",
    "$$\\left\\langle \\left|\\hat{h}\\left(k\\right)\\right|^{2}\\right\\rangle =\\frac{k_{B}T}{C^2_{invf}\\gamma k^{2}}$$\n",
    "\n",
    "##### Proof\n",
    "\n",
    "Free energy of fluctuating flat interface\n",
    "$$F=\\gamma S$$\n",
    "in which $S$ denotes surface area. The surface area element is\n",
    "\\begin{aligned}\n",
    "S\t=\\int\\left|\\frac{\\partial\\bm{r}}{\\partial x}\\times\\frac{\\partial\\bm{r}}{\\partial y}\\right|dxdy=\\int\\left|\\begin{array}{ccc}\n",
    "\\bm{i} & \\bm{j} & \\bm{k}\\\\\n",
    "1 & 0 & \\frac{\\partial h}{\\partial x}\\\\\n",
    "0 & 1 & \\frac{\\partial h}{\\partial y}\n",
    "\\end{array}\\right|dxdy\n",
    "\t=\\int\\left|-\\frac{\\partial h}{\\partial x}\\bm{i}-\\frac{\\partial h}{\\partial y}\\bm{j}+\\bm{k}\\right|dxdy\n",
    "\t=\\int\\sqrt{1+\\left|\\nabla h\\left(x,y\\right)\\right|^{2}}dxdy\n",
    "\\end{aligned}\n",
    "\n",
    "Therefore the free energy is\n",
    "$$\\Delta F=\\gamma\\Delta S\\approx\\frac{\\gamma}{2}\\int\\left|\\nabla h\\left(x,y\\right)\\right|^{2}dxdy=\\frac{\\gamma}{2}C_{invf}^{2}\\int\\left|i\\bm{k}\\hat{h}\\left(\\bm{k}\\right)\\right|^{2}d\\bm{k}$$\n",
    "\n",
    "By FDT, $Z\\sim e^{-\\beta\\Delta F}$, each ~$\\left|\\bm{k}\\right|^2$ term possesses $\\frac{k_BT}{2}$.\n",
    "$$\\frac{\\gamma}{2}C_{invf}^{2}\\left|\\bm{k}\\right|^{2}\\left\\langle \\left|\\hat{h}\\left(\\bm{k}\\right)\\right|^{2}\\right\\rangle =\\frac{1}{2}k_{B}T$$\n",
    "$$\\to\\ \\ \\ \\ \\left\\langle \\left|\\hat{h}\\left(\\bm{k}\\right)\\right|^{2}\\right\\rangle =\\frac{k_{B}T}{C_{invf}^{2}\\gamma\\left|\\bm{k}\\right|^{2}}$$\n",
    "\n",
    "If we set $C_{invf}=1$\n"
   ]
  },
  {
   "cell_type": "markdown",
   "id": "e7fb4380",
   "metadata": {},
   "source": [
    "### ensemble average for $\\left\\langle \\left|\\hat{h}\\left(k\\right)\\right|^{2}\\right\\rangle$\n"
   ]
  },
  {
   "cell_type": "code",
   "execution_count": null,
   "id": "b25d139b",
   "metadata": {},
   "outputs": [],
   "source": [
    "###   Read in height ensembles from step1 to step2 ###\n",
    "\n",
    "step1 = 300000\n",
    "step2 = 600000\n",
    "plot_int = 2000 # interval between frames\n",
    "alpha0 = 1.5\n",
    "temperature = 1e-5\n",
    "nx = 8\n",
    "ny = 256\n",
    "nz = 64\n",
    "rho_lo = 0.1\n",
    "rho_hi = 2.\n",
    "\n",
    "sliceIdx_x = 4\n",
    "height_arrays = np.zeros(((step2 - step1) // plot_int + 1, ny))\n",
    "for n in range(step1, step2+plot_int, plot_int):\n",
    "    plot_file_dir = \"./data_interface/lbm_data_shshan_alpha0_\" + \"{:.2f}\".format(alpha0) +\\\n",
    "          \"_xi_\" + \"{:.1e}\".format(temperature) + \"_size{:d}-{:d}-{:d}_continue/\".format(nx, ny, nz) + \"plt\" + f\"{n:07d}\"\n",
    "    ds = yt.load(plot_file_dir)\n",
    "    profile = ds.covering_grid(level=0, left_edge=ds.domain_left_edge, dims=ds.domain_dimensions)\n",
    "    profile_data = profile['boxlib', 'rho']\n",
    "    height = ih_direct(profile_data, (rho_lo + rho_hi)/2.)\n",
    "    height_arrays[(n - step1) // plot_int, :] = height[sliceIdx_x, :]\n",
    "\n",
    "print(height_arrays)\n"
   ]
  },
  {
   "cell_type": "code",
   "execution_count": null,
   "id": "310a9605",
   "metadata": {},
   "outputs": [
    {
     "name": "stderr",
     "output_type": "stream",
     "text": [
      "/tmp/ipykernel_257711/2995224456.py:9: RuntimeWarning: divide by zero encountered in divide\n",
      "  ky_fft2_inv = 1./(ky_fft*ky_fft.conjugate())\n"
     ]
    },
    {
     "data": {
      "image/png": "[encoded data removed]",
      "text/plain": [
       "<Figure size 800x600 with 1 Axes>"
      ]
     },
     "metadata": {},
     "output_type": "display_data"
    }
   ],
   "source": [
    "import numpy as np\n",
    "from numpy import fft\n",
    "import matplotlib.pyplot as plt\n",
    "\n",
    "fft_mode = \"forward\"\n",
    "\n",
    "h_k_norm2 = np.zeros((ny), dtype = np.complex128)\n",
    "ky_fft = fft.fftfreq(ny)*2*np.pi\n",
    "ky_fft2_inv = 1./(ky_fft*ky_fft.conjugate())\n",
    "h_mean = np.mean(height_arrays, axis=0)  # Mean height profile across the ensemble\n",
    "\n",
    "# height_arrays = np.zeros(((step2 - step1) // plot_int + 1, ny))\n",
    "for n in range(height_arrays.shape[0]):\n",
    "    h = height_arrays[n, :] - h_mean\n",
    "    h_k = fft.fft(h, norm = fft_mode)\n",
    "    h_k_norm2 += h_k*h_k.conjugate()\n",
    "h_k_norm2 /= height_arrays.shape[0]  # Average over the ensemble\n",
    "\n",
    "plt.figure(1, figsize=(8, 6), dpi=100)  # Optional: Set the figure size\n",
    "#fig, ax = plt.subplots()\n",
    "plt.plot(ky_fft2_inv, h_k_norm2, label=\"[ky,kz]=[0,0]\", marker='o', linestyle='', color='b') \n",
    "plt.legend(title=\"Figure 1\")\n",
    "\n",
    "plt.xlabel(\"X-axis\")  # X-axis label\n",
    "plt.ylabel(\"Y-axis\")  # Y-axis label\n",
    "plt.title(\"<|hk|^2> vs ky (alpha0={:.2f}), size=({:d},{:d},{:d})\".format(alpha0,nx,ny,nz))  # Plot title\n",
    "#plt.ylim(0,1.2)\n",
    "plt.grid(True)\n"
   ]
  }
 ],
 "metadata": {
  "kernelspec": {
   "display_name": "base",
   "language": "python",
   "name": "python3"
  },
  "language_info": {
   "codemirror_mode": {
    "name": "ipython",
    "version": 3
   },
   "file_extension": ".py",
   "mimetype": "text/x-python",
   "name": "python",
   "nbconvert_exporter": "python",
   "pygments_lexer": "ipython3",
   "version": "3.12.2"
  }
 },
 "nbformat": 4,
 "nbformat_minor": 5
}
